{
 "cells": [
  {
   "cell_type": "code",
   "execution_count": 1,
   "metadata": {},
   "outputs": [],
   "source": [
    "import sys\n",
    "sys.path.append(\"../../\")\n",
    "\n",
    "from src.sslHiC import get_reproducibility_score\n",
    "from src.data.utils import cool_to_mats\n",
    "\n",
    "import numpy as np\n",
    "import pandas as pd\n",
    "import seaborn as sns"
   ]
  },
  {
   "cell_type": "code",
   "execution_count": 2,
   "metadata": {},
   "outputs": [],
   "source": [
    "## Please first download H1 cooler files from https://figshare.com/s/3d451933300ad64c34ff and unzip the files into the dataset/H1 directory.\n",
    "\n",
    "samples = ['ES','ME','MS','NP','TB']"
   ]
  },
  {
   "cell_type": "code",
   "execution_count": 3,
   "metadata": {},
   "outputs": [],
   "source": [
    "resol = '50kb'\n",
    "bio_replicate_scores = []\n",
    "non_replicate_scores = []\n",
    "for chrom in ['chr21']:\n",
    "    for sample1 in samples:\n",
    "        s1_r1 = cool_to_mats(f\"dataset/H1/{sample1}_replicate1_hg19_{resol}.cool\", [chrom])[0]\n",
    "        s1_r2 = cool_to_mats(f\"dataset/H1/{sample1}_replicate2_hg19_{resol}.cool\", [chrom])[0]\n",
    "        rep_score = get_reproducibility_score(s1_r1,s1_r2,resol,complete=False)\n",
    "        bio_replicate_scores.append(rep_score)\n",
    "        for sample2 in samples:\n",
    "            if sample2  != sample1:\n",
    "                s2_r1 = cool_to_mats(f\"dataset/H1/{sample2}_replicate1_hg19_{resol}.cool\", [chrom])[0]\n",
    "                s2_r2 = cool_to_mats(f\"dataset/H1/{sample2}_replicate2_hg19_{resol}.cool\", [chrom])[0]\n",
    "                rep_score = get_reproducibility_score(s1_r1,s2_r1,resol,complete=False)\n",
    "                non_replicate_scores.append(rep_score)\n",
    "                rep_score = get_reproducibility_score(s1_r2,s2_r2,resol,complete=False)\n",
    "                non_replicate_scores.append(rep_score)\n",
    "                rep_score = get_reproducibility_score(s1_r2,s2_r1,resol,complete=False)\n",
    "                non_replicate_scores.append(rep_score)\n",
    "                rep_score = get_reproducibility_score(s1_r1,s2_r2,resol,complete=False)\n",
    "                non_replicate_scores.append(rep_score)"
   ]
  },
  {
   "cell_type": "code",
   "execution_count": 4,
   "metadata": {},
   "outputs": [
    {
     "data": {
      "text/plain": [
       "<AxesSubplot:xlabel='x', ylabel='y'>"
      ]
     },
     "execution_count": 4,
     "metadata": {},
     "output_type": "execute_result"
    },
    {
     "data": {
      "image/png": "[encoded data removed]",
      "text/plain": [
       "<Figure size 432x288 with 1 Axes>"
      ]
     },
     "metadata": {
      "needs_background": "light"
     },
     "output_type": "display_data"
    }
   ],
   "source": [
    "x=['Biological replicates']*len(bio_replicate_scores)+['None replicates']*len(non_replicate_scores)\n",
    "y = bio_replicate_scores + non_replicate_scores\n",
    "data = pd.DataFrame({'x':x,'y':y})\n",
    "sns.boxplot(x='x',y='y',data=data)"
   ]
  },
  {
   "cell_type": "code",
   "execution_count": null,
   "metadata": {},
   "outputs": [],
   "source": []
  }
 ],
 "metadata": {
  "kernelspec": {
   "display_name": "Python 3.7.13 ('sslHiC')",
   "language": "python",
   "name": "python3"
  },
  "language_info": {
   "codemirror_mode": {
    "name": "ipython",
    "version": 3
   },
   "file_extension": ".py",
   "mimetype": "text/x-python",
   "name": "python",
   "nbconvert_exporter": "python",
   "pygments_lexer": "ipython3",
   "version": "3.7.13"
  },
  "orig_nbformat": 4,
  "vscode": {
   "interpreter": {
    "hash": "23252fede2c3cc7733bee2f7017ed084d1ddc7b0681ca68cade0abeec2ec61ed"
   }
  }
 },
 "nbformat": 4,
 "nbformat_minor": 2
}
