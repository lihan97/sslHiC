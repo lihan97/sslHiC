{
 "cells": [
  {
   "cell_type": "code",
   "execution_count": 1,
   "metadata": {},
   "outputs": [
    {
     "name": "stderr",
     "output_type": "stream",
     "text": [
      "/data/lihan/miniconda/envs/sslHiC-test/lib/python3.7/site-packages/tqdm/auto.py:21: TqdmWarning: IProgress not found. Please update jupyter and ipywidgets. See https://ipywidgets.readthedocs.io/en/stable/user_install.html\n",
      "  from .autonotebook import tqdm as notebook_tqdm\n"
     ]
    }
   ],
   "source": [
    "import sys\n",
    "sys.path.append(\"../../\")\n",
    "\n",
    "from src.sslHiC import get_DCIs\n",
    "from scipy.io import mmread\n",
    "from scipy import sparse\n",
    "from sklearn import metrics"
   ]
  },
  {
   "cell_type": "code",
   "execution_count": 2,
   "metadata": {},
   "outputs": [],
   "source": [
    "resolution = '50kb'\n",
    "folds = [2,4,6]"
   ]
  },
  {
   "cell_type": "code",
   "execution_count": 3,
   "metadata": {},
   "outputs": [
    {
     "name": "stdout",
     "output_type": "stream",
     "text": [
      "[2fold]  AUROC: 0.9287950202691221 AUPRC: 0.8196444177210571\n",
      "[4fold]  AUROC: 0.9827068841425813 AUPRC: 0.9576800463352986\n",
      "[6fold]  AUROC: 0.9890200305762352 AUPRC: 0.9731552260313818\n"
     ]
    }
   ],
   "source": [
    "for fold in folds:\n",
    "    c1 = mmread(f'dataset/GM12878_combined_chr21_{fold}fold_c1.mtx')\n",
    "    c2 = mmread(f'dataset/GM12878_combined_chr21_{fold}fold_c2.mtx')\n",
    "    c1 = sparse.triu(c1,1) + sparse.triu(c1).transpose()\n",
    "    c2 = sparse.triu(c2,1) + sparse.triu(c2).transpose()\n",
    "    label_mat = mmread(f'dataset//GM12878_combined_chr21_{fold}fold_label.mtx')\n",
    "    label_mat = sparse.triu(label_mat,1) + sparse.triu(label_mat).transpose()\n",
    "    labels = label_mat.toarray().reshape(-1)\n",
    "\n",
    "    preds = get_DCIs(m1=c1, m2=c2, resol=resolution, filter_zero_interactions=True)\n",
    "\n",
    "    fpr, tpr, thresholds = metrics.roc_curve(labels, preds.reshape(-1), pos_label=1)\n",
    "    lr_precision, lr_recall, thresholds =metrics.precision_recall_curve(labels, preds.reshape(-1),pos_label=1)\n",
    "    print(f\"[{fold}fold]  AUROC:\", metrics.auc(fpr, tpr), \"AUPRC:\", metrics.auc(lr_recall, lr_precision))"
   ]
  },
  {
   "cell_type": "markdown",
   "metadata": {},
   "source": []
  }
 ],
 "metadata": {
  "kernelspec": {
   "display_name": "Python 3.7.13 ('sslHiC')",
   "language": "python",
   "name": "python3"
  },
  "language_info": {
   "codemirror_mode": {
    "name": "ipython",
    "version": 3
   },
   "file_extension": ".py",
   "mimetype": "text/x-python",
   "name": "python",
   "nbconvert_exporter": "python",
   "pygments_lexer": "ipython3",
   "version": "3.7.16"
  },
  "orig_nbformat": 4,
  "vscode": {
   "interpreter": {
    "hash": "23252fede2c3cc7733bee2f7017ed084d1ddc7b0681ca68cade0abeec2ec61ed"
   }
  }
 },
 "nbformat": 4,
 "nbformat_minor": 2
}
